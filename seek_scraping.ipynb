{
  "nbformat": 4,
  "nbformat_minor": 0,
  "metadata": {
    "colab": {
      "name": "seek-scraping.ipynb",
      "provenance": [],
      "authorship_tag": "ABX9TyN5TOwI+KkcqpfssYZZvr0U",
      "include_colab_link": true
    },
    "kernelspec": {
      "name": "python3",
      "display_name": "Python 3"
    }
  },
  "cells": [
    {
      "cell_type": "markdown",
      "metadata": {
        "id": "view-in-github",
        "colab_type": "text"
      },
      "source": [
        "<a href=\"https://colab.research.google.com/github/munroalex/job-search/blob/master/seek_scraping.ipynb\" target=\"_parent\"><img src=\"https://colab.research.google.com/assets/colab-badge.svg\" alt=\"Open In Colab\"/></a>"
      ]
    },
    {
      "cell_type": "markdown",
      "metadata": {
        "id": "g_Q7QokedMSj",
        "colab_type": "text"
      },
      "source": [
        "# Objective\n",
        "\n",
        "The goal of this project is to scrape the website seek.com looking for python based jobs.\n",
        "\n",
        "Analyse the job descriptions from the job ads and make a list of skills that are most commonly requested. "
      ]
    },
    {
      "cell_type": "markdown",
      "metadata": {
        "id": "N4HYcg-HehS8",
        "colab_type": "text"
      },
      "source": [
        "# How\n",
        "\n",
        "https://www.seek.com.au/python-jobs is the base jobs for searching Python jobs in Australia.\n",
        "\n",
        "**DIV** with **class** \"_3MPUOLE._25jRyqU.-LbF7kM\"\n",
        "\n",
        "Find the **H1** elements and each link will take you to the relevant job advert.\n",
        "\n",
        "Inside each job advert\n",
        " **DIV** with **class** \"_28sXRcp\"\n",
        "\n",
        "\n",
        " Search inside this element for key words skills/requirements etc."
      ]
    },
    {
      "cell_type": "code",
      "metadata": {
        "id": "DZwg1a5RdKe4",
        "colab_type": "code",
        "colab": {}
      },
      "source": [
        ""
      ],
      "execution_count": null,
      "outputs": []
    }
  ]
}